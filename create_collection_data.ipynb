{
 "cells": [
  {
   "cell_type": "code",
   "execution_count": 228,
   "id": "96d90d68",
   "metadata": {},
   "outputs": [],
   "source": [
    "import numpy as np\n",
    "import pandas as pd\n",
    "import discogs_client\n",
    "from dotenv import load_dotenv\n",
    "import os\n",
    "from IPython import display\n",
    "import random\n",
    "import requests"
   ]
  },
  {
   "cell_type": "code",
   "execution_count": 229,
   "id": "fbefb2d4",
   "metadata": {},
   "outputs": [],
   "source": [
    "d = discogs_client.Client('ExampleApplication/0.1', user_token= os.getenv('my_user_token'))"
   ]
  },
  {
   "cell_type": "code",
   "execution_count": 6,
   "id": "f89bd37c",
   "metadata": {},
   "outputs": [
    {
     "name": "stdout",
     "output_type": "stream",
     "text": [
      "<User 723013 'arcadybliss'>\n"
     ]
    }
   ],
   "source": [
    "me=d.identity()\n",
    "print(me)"
   ]
  },
  {
   "cell_type": "code",
   "execution_count": 7,
   "id": "aceaf1fa",
   "metadata": {
    "scrolled": true
   },
   "outputs": [
    {
     "name": "stdout",
     "output_type": "stream",
     "text": [
      "<CollectionItemInstance 3068785 'This Is Augustus Pablo'>\n",
      "<CollectionItemInstance 712158 'Dazz'>\n",
      "<CollectionItemInstance 442490 'Synchronicity'>\n",
      "<CollectionItemInstance 1022839 'Young And Rich'>\n",
      "<CollectionItemInstance 611451 'The Singles 1969-1973'>\n",
      "<CollectionItemInstance 1473508 'Hits Of Gold'>\n",
      "<CollectionItemInstance 4290679 \"Can't Buy A Thrill\">\n",
      "<CollectionItemInstance 4383259 'Shaved Fish'>\n",
      "<CollectionItemInstance 453773 'Sky 2'>\n",
      "<CollectionItemInstance 773190 'I Robot'>\n",
      "<CollectionItemInstance 6339387 'The Pretender'>\n",
      "<CollectionItemInstance 588440 'Hotel California'>\n",
      "<CollectionItemInstance 1943717 'Look At Us'>\n",
      "<CollectionItemInstance 2710859 'The Big Roar'>\n",
      "<CollectionItemInstance 8855958 'Warm On A Cold Night'>\n",
      "<CollectionItemInstance 7404970 \"Not The Nine O'Clock News...\">\n",
      "<CollectionItemInstance 606466 \"Not The Nine O'Clock News...\">\n",
      "<CollectionItemInstance 2922191 'The English Riviera'>\n",
      "<CollectionItemInstance 12020608 'The Return'>\n",
      "<CollectionItemInstance 1258803 \"Love Me A Little While Longer / I Can't Help Myself\">\n",
      "<CollectionItemInstance 5023153 'The Sound Of Soul'>\n",
      "<CollectionItemInstance 1421928 'Return To Fantasy'>\n",
      "<CollectionItemInstance 8904743 'Uriah Heep Live'>\n",
      "<CollectionItemInstance 880181 'Cold Sweat'>\n",
      "<CollectionItemInstance 9072898 'Black Focus'>\n",
      "<CollectionItemInstance 2765053 'Live At Leeds'>\n",
      "<CollectionItemInstance 9302056 '1967-1970'>\n",
      "<CollectionItemInstance 4803845 'Pet Sounds'>\n",
      "<CollectionItemInstance 379830 'The Birth Of The Cool'>\n",
      "<CollectionItemInstance 2338065 'Friends'>\n",
      "<CollectionItemInstance 2269475 'Like A Rolling Stone'>\n",
      "<CollectionItemInstance 1280814 \"The Freewheelin' Bob Dylan\">\n",
      "<CollectionItemInstance 635894 'Roachford'>\n",
      "<CollectionItemInstance 3053053 'Toys In The Attic'>\n",
      "<CollectionItemInstance 2934419 'The Only Ones'>\n",
      "<CollectionItemInstance 373350 'Bob Dylan At Budokan'>\n",
      "<CollectionItemInstance 3420719 'At Folsom Prison'>\n",
      "<CollectionItemInstance 1337919 \"Simon And Garfunkel's Greatest Hits\">\n",
      "<CollectionItemInstance 1569990 'Bridge Over Troubled Water'>\n",
      "<CollectionItemInstance 205846 'I Am'>\n",
      "<CollectionItemInstance 496187 'Five Bridges'>\n",
      "<CollectionItemInstance 4217215 'Live'>\n",
      "<CollectionItemInstance 229449 'Parallel Lines'>\n",
      "<CollectionItemInstance 11684625 'Robin Trower Live!'>\n",
      "<CollectionItemInstance 5941392 'You Walk Through Walls'>\n",
      "<CollectionItemInstance 5672833 'Stringbeat'>\n",
      "<CollectionItemInstance 457367 \"Let's Twist Again\">\n",
      "<CollectionItemInstance 562854 'The Carnival Is Over'>\n",
      "<CollectionItemInstance 2766894 'Recorded Live At The Royal Oak, Nailsea, Zummerzet'>\n",
      "<CollectionItemInstance 6140016 'Grace'>\n",
      "<CollectionItemInstance 7407271 'London Calling'>\n",
      "<CollectionItemInstance 8462767 'The Platinum Collection Of Joe Cocker'>\n",
      "<CollectionItemInstance 530509 \"It's Not Unusual / Delilah\">\n",
      "<CollectionItemInstance 1953853 \"Chacksfield Plays The Beatles' Song Book\">\n",
      "<CollectionItemInstance 552230 'Labour Of Love'>\n",
      "<CollectionItemInstance 2681475 'No Time For Dreaming'>\n",
      "<CollectionItemInstance 8255546 'Changes'>\n",
      "<CollectionItemInstance 4400772 'Victim Of Love'>\n",
      "<CollectionItemInstance 2152634 'O Maybe I'>\n",
      "<CollectionItemInstance 2310304 'Wichita Lineman'>\n",
      "<CollectionItemInstance 541818 'The Very Best Of Edith Piaf'>\n",
      "<CollectionItemInstance 1670351 \"Love's A Prima Donna\">\n",
      "<CollectionItemInstance 1319421 'One Pure Thought'>\n",
      "<CollectionItemInstance 4080688 'In Step'>\n",
      "<CollectionItemInstance 7747375 'Thriller'>\n",
      "<CollectionItemInstance 3326094 'Every Cloakroom Ever'>\n",
      "<CollectionItemInstance 2233020 'Sounds'>\n",
      "<CollectionItemInstance 4224013 'At The Roundtable'>\n",
      "<CollectionItemInstance 1810709 'Whirring'>\n",
      "<CollectionItemInstance 1998702 'The Future'>\n",
      "<CollectionItemInstance 3968803 'Toy / BBC Sessions'>\n",
      "<CollectionItemInstance 1257481 \"Stump Grindin' / Log Jammin'\">\n",
      "<CollectionItemInstance 4448551 'Solid Air'>\n",
      "<CollectionItemInstance 1589668 'Liege & Lief'>\n",
      "<CollectionItemInstance 1172773 'Mona Bone Jakon'>\n",
      "<CollectionItemInstance 473873 'Tea For The Tillerman'>\n",
      "<CollectionItemInstance 4088125 'Pink Moon'>\n",
      "<CollectionItemInstance 594683 'Babylon By Bus'>\n",
      "<CollectionItemInstance 10456142 'The Joshua Tree'>\n",
      "<CollectionItemInstance 1401897 \"Don't You Just Know It\">\n",
      "<CollectionItemInstance 2596551 'Five Leaves Left'>\n",
      "<CollectionItemInstance 414618 'Teaser And The Firecat'>\n",
      "<CollectionItemInstance 425175 'When The Eagle Flies'>\n",
      "<CollectionItemInstance 4772045 'Bryter Layter'>\n",
      "<CollectionItemInstance 1178876 'Bye Bye Blackbird'>\n",
      "<CollectionItemInstance 234318 'Kung Fu Meets The Dragon'>\n",
      "<CollectionItemInstance 2823030 \"Hey! Hey! It's The Monkees Greatest Hits\">\n",
      "<CollectionItemInstance 9656453 'Caroline E.P.'>\n",
      "<CollectionItemInstance 2260629 'Record Store Day Split'>\n",
      "<CollectionItemInstance 8011731 'Actions / Circles'>\n",
      "<CollectionItemInstance 4467995 'Tropicália Ou Panis Et Circensis'>\n",
      "<CollectionItemInstance 2108262 'Love & Disaster 1'>\n",
      "<CollectionItemInstance 10486030 'Love Fuelled Hate'>\n",
      "<CollectionItemInstance 1833816 'Emerson Lake & Palmer'>\n",
      "<CollectionItemInstance 5991250 'Trilogy'>\n",
      "<CollectionItemInstance 5466096 'Pictures At An Exhibition'>\n",
      "<CollectionItemInstance 4031206 'Brain Salad Surgery'>\n",
      "<CollectionItemInstance 10596103 'Universal High '>\n",
      "<CollectionItemInstance 1595229 \"What's Bin Did And What's Bin Hid\">\n",
      "<CollectionItemInstance 1596116 'Fairytale'>\n",
      "<CollectionItemInstance 5667894 'Pilgrimage'>\n",
      "<CollectionItemInstance 5022605 'So Macho!'>\n",
      "<CollectionItemInstance 438323 'Sing It Again Rod'>\n",
      "<CollectionItemInstance 1249745 'Fly Like An Eagle'>\n",
      "<CollectionItemInstance 848848 'Deceptive Bends'>\n",
      "<CollectionItemInstance 334623 'The Velvet Underground & Nico'>\n",
      "<CollectionItemInstance 5833783 'The Fabulous Ink Spots'>\n",
      "<CollectionItemInstance 4402458 'Excita / Lost It'>\n",
      "<CollectionItemInstance 13871878 'How Would You Know I Was Lonely?'>\n",
      "<CollectionItemInstance 8545552 \"Can't Slow Down\">\n",
      "<CollectionItemInstance 11915743 'The Aura Will Prevail'>\n",
      "<CollectionItemInstance 8825534 'Maria Fumaça'>\n",
      "<CollectionItemInstance 2858618 'The Legendary Marlene Dietrich'>\n",
      "<CollectionItemInstance 726715 'The Beach Boys'>\n",
      "<CollectionItemInstance 694654 'Funky Reggae'>\n",
      "<CollectionItemInstance 3048648 'Back To Boogie (The Goodtime Piano Of Neville Dickie)'>\n",
      "<CollectionItemInstance 2291464 'With A Little Help From My Friends'>\n",
      "<CollectionItemInstance 97230 \"Upstairs At Eric's\">\n",
      "<CollectionItemInstance 34622 'In The Red'>\n",
      "<CollectionItemInstance 2578939 'Under The Dragons Wings'>\n",
      "<CollectionItemInstance 2578932 'Ba Ba Ba'>\n",
      "<CollectionItemInstance 5794596 'Frank Turner'>\n",
      "<CollectionItemInstance 2069399 'First You Have To Get Mad'>\n",
      "<CollectionItemInstance 6221719 'Revolver'>\n",
      "<CollectionItemInstance 1067532 'Delivery'>\n",
      "<CollectionItemInstance 4953644 \"A Hard Day's Night\">\n",
      "<CollectionItemInstance 1345188 'Violet Hill'>\n",
      "<CollectionItemInstance 768701 \"Echoes Of The 60's\">\n",
      "<CollectionItemInstance 607028 'How To Win An Election (Or Not Lose By Much)'>\n",
      "<CollectionItemInstance 4033838 'The Famous 1938 Carnegie Hall Jazz Concert'>\n",
      "<CollectionItemInstance 9287809 'The Dark Side Of The Moon'>\n",
      "<CollectionItemInstance 2397733 'Antonio Carlos Jobim Plays Jobim'>\n",
      "<CollectionItemInstance 4013610 'In The City'>\n",
      "<CollectionItemInstance 2511330 'Equinoxe'>\n",
      "<CollectionItemInstance 11540567 'Mark I & II'>\n",
      "<CollectionItemInstance 34122 'Kitty Litter'>\n",
      "<CollectionItemInstance 1152307 \"Do It ('Til You're Satisfied)\">\n",
      "<CollectionItemInstance 1348355 \"Let's Be Friends\">\n",
      "<CollectionItemInstance 2845056 'The Voice And Guitar Of José Feliciano'>\n",
      "<CollectionItemInstance 1139477 'Aladdin Sane'>\n",
      "<CollectionItemInstance 375621 'Diamond Dogs'>\n",
      "<CollectionItemInstance 2976197 'Town Hall Concert Plus'>\n",
      "<CollectionItemInstance 6541942 'Hunky Dory'>\n",
      "<CollectionItemInstance 116593 'Revenge'>\n",
      "<CollectionItemInstance 1358659 'Disraeli Gears'>\n",
      "<CollectionItemInstance 1725492 'Free Love / Tiny Little Robots'>\n",
      "<CollectionItemInstance 1662693 'Not Till Tomorrow'>\n",
      "<CollectionItemInstance 4260001 'Harvest'>\n",
      "<CollectionItemInstance 8295484 'Rainbow Bridge / Original Motion Picture Sound Track'>\n",
      "<CollectionItemInstance 9104605 'Foot Loose & Fancy Free'>\n",
      "<CollectionItemInstance 552490 'Greatest Hits Vol. 1'>\n",
      "<CollectionItemInstance 1686144 'Let The Bells Ring / Lowdown Stank'>\n",
      "<CollectionItemInstance 4726423 'Is This It'>\n",
      "<CollectionItemInstance 1409611 'Dance Together / Song For A Dollar'>\n",
      "<CollectionItemInstance 5476311 'Ed Sheeran'>\n",
      "<CollectionItemInstance 929517 'The Stone Roses'>\n",
      "<CollectionItemInstance 3416985 \"Aunt Molly's Murray Farm\">\n",
      "<CollectionItemInstance 1994147 'Soft Wind'>\n",
      "<CollectionItemInstance 1456129 'Get Down'>\n",
      "<CollectionItemInstance 1733046 'Personal Golf Instructions From Driver Thru Putter'>\n",
      "<CollectionItemInstance 1749197 'Princess In Rags'>\n",
      "<CollectionItemInstance 3639769 'Good Girl / Amazing Discovery'>\n",
      "<CollectionItemInstance 5831313 'Rock On 25 Rock´n´Roll All Time Greats'>\n",
      "<CollectionItemInstance 1409603 'Sgt. Peppers / The Hens March'>\n",
      "<CollectionItemInstance 10632973 'Madvillainy'>\n",
      "<CollectionItemInstance 1750296 'Leader Of The Pack'>\n",
      "<CollectionItemInstance 6593513 'Rare Live Performances'>\n",
      "<CollectionItemInstance 2028699 \"'Live' At London's Talk Of The Town\">\n",
      "<CollectionItemInstance 4215405 'Songs In The Key Of Life'>\n",
      "<CollectionItemInstance 1874718 'Heat Wave'>\n",
      "<CollectionItemInstance 4583364 'The Ink Spots In Hi-Fi'>\n",
      "<CollectionItemInstance 1270606 'Flying Home'>\n",
      "<CollectionItemInstance 5793645 \"You Can't Beat People Up And Have Them Say I Love You\">\n",
      "<CollectionItemInstance 1600806 'American Pie'>\n",
      "<CollectionItemInstance 551714 'Twenty Four Hours From Tulsa'>\n",
      "<CollectionItemInstance 1979183 'You And Me'>\n",
      "<CollectionItemInstance 2470190 'You And Me'>\n",
      "<CollectionItemInstance 9181829 'Alchemy - Dire Straits Live'>\n",
      "<CollectionItemInstance 3727910 'No Jacket Required'>\n",
      "<CollectionItemInstance 1740939 'Tubular Bells'>\n",
      "<CollectionItemInstance 1058105 'Loving You'>\n",
      "<CollectionItemInstance 3952601 'Dare!'>\n",
      "<CollectionItemInstance 1328502 'The George Benson Collection'>\n",
      "<CollectionItemInstance 6681095 'Rumours'>\n",
      "<CollectionItemInstance 1671384 'Stepping Stones / Footprints On The Moon'>\n",
      "<CollectionItemInstance 4954046 'Give Me The Night'>\n",
      "<CollectionItemInstance 892127 'Tusk'>\n",
      "<CollectionItemInstance 2556904 \"Men's Needs, Women's Needs, Whatever\">\n",
      "<CollectionItemInstance 4188470 'Picture Book'>\n",
      "<CollectionItemInstance 2236481 'The Cribs'>\n",
      "<CollectionItemInstance 557554 'Helicopter'>\n",
      "<CollectionItemInstance 2403586 'Crazy For You'>\n",
      "<CollectionItemInstance 3607620 'The Only Place'>\n",
      "<CollectionItemInstance 2214277 'Silent Alarm'>\n",
      "<CollectionItemInstance 17150 'Steal My Sunshine (Remixes)'>\n",
      "<CollectionItemInstance 659553 'Raised By Wolves / Heartbleeder'>\n",
      "<CollectionItemInstance 8043778 'Bet She Does / Ten Thousand Eyes'>\n"
     ]
    }
   ],
   "source": [
    "for item in me.collection_folders[0].releases:\n",
    "    print(item)"
   ]
  },
  {
   "cell_type": "code",
   "execution_count": 8,
   "id": "a283ced1",
   "metadata": {
    "scrolled": true
   },
   "outputs": [
    {
     "name": "stdout",
     "output_type": "stream",
     "text": [
      "['__class__', '__delattr__', '__dict__', '__dir__', '__doc__', '__eq__', '__format__', '__ge__', '__getattribute__', '__gt__', '__hash__', '__init__', '__init_subclass__', '__le__', '__lt__', '__module__', '__ne__', '__new__', '__reduce__', '__reduce_ex__', '__repr__', '__setattr__', '__sizeof__', '__str__', '__subclasshook__', '__weakref__', '_known_invalid_keys', 'changes', 'client', 'data', 'date_added', 'delete', 'fetch', 'folder_id', 'id', 'instance_id', 'notes', 'previous_request', 'rating', 'refresh', 'release', 'save']\n"
     ]
    }
   ],
   "source": [
    "print(dir(me.collection_folders[0].releases[0]))"
   ]
  },
  {
   "cell_type": "code",
   "execution_count": 10,
   "id": "e1b28c06",
   "metadata": {},
   "outputs": [],
   "source": [
    "raw_collection_data = [release.data for release in me.collection_folders[0].releases]"
   ]
  },
  {
   "cell_type": "code",
   "execution_count": 11,
   "id": "d2d137d2",
   "metadata": {},
   "outputs": [
    {
     "data": {
      "text/plain": [
       "197"
      ]
     },
     "execution_count": 11,
     "metadata": {},
     "output_type": "execute_result"
    }
   ],
   "source": [
    "len(raw_collection_data)"
   ]
  },
  {
   "cell_type": "code",
   "execution_count": 12,
   "id": "16994956",
   "metadata": {},
   "outputs": [
    {
     "data": {
      "text/plain": [
       "dict_keys(['id', 'instance_id', 'date_added', 'rating', 'basic_information', 'folder_id'])"
      ]
     },
     "execution_count": 12,
     "metadata": {},
     "output_type": "execute_result"
    }
   ],
   "source": [
    "raw_collection_data[100].keys()"
   ]
  },
  {
   "cell_type": "code",
   "execution_count": 13,
   "id": "342d10ae",
   "metadata": {},
   "outputs": [
    {
     "data": {
      "text/plain": [
       "dict_keys(['id', 'master_id', 'master_url', 'resource_url', 'thumb', 'cover_image', 'title', 'year', 'formats', 'labels', 'artists', 'genres', 'styles'])"
      ]
     },
     "execution_count": 13,
     "metadata": {},
     "output_type": "execute_result"
    }
   ],
   "source": [
    "raw_collection_data[100]['basic_information'].keys()"
   ]
  },
  {
   "cell_type": "code",
   "execution_count": 14,
   "id": "ad4f1e20",
   "metadata": {},
   "outputs": [
    {
     "data": {
      "text/plain": [
       "{'id': 5667894,\n",
       " 'instance_id': 338016219,\n",
       " 'date_added': '2018-12-09T15:30:09-08:00',\n",
       " 'rating': 0,\n",
       " 'basic_information': {'id': 5667894,\n",
       "  'master_id': 46944,\n",
       "  'master_url': 'https://api.discogs.com/masters/46944',\n",
       "  'resource_url': 'https://api.discogs.com/releases/5667894',\n",
       "  'thumb': 'https://i.discogs.com/jEI2OnowODlph_OlAMspsVQny8KLELBnBI0Rp3TAaHs/rs:fit/g:sm/q:40/h:150/w:150/czM6Ly9kaXNjb2dz/LWRhdGFiYXNlLWlt/YWdlcy9SLTU2Njc4/OTQtMTUwMjMxMDgy/MC02ODc4LmpwZWc.jpeg',\n",
       "  'cover_image': 'https://i.discogs.com/0dvQsgevbGakfNGqev3rVRAH_6O48-0wXeXZ7846_x8/rs:fit/g:sm/q:90/h:591/w:600/czM6Ly9kaXNjb2dz/LWRhdGFiYXNlLWlt/YWdlcy9SLTU2Njc4/OTQtMTUwMjMxMDgy/MC02ODc4LmpwZWc.jpeg',\n",
       "  'title': 'Pilgrimage',\n",
       "  'year': 1971,\n",
       "  'formats': [{'name': 'Vinyl',\n",
       "    'qty': '1',\n",
       "    'text': 'Gatefold, Red/Brown \"Dogbone\"',\n",
       "    'descriptions': ['LP', 'Album']}],\n",
       "  'labels': [{'name': 'MCA Records',\n",
       "    'catno': 'MDKS 8004',\n",
       "    'entity_type': '1',\n",
       "    'entity_type_name': 'Label',\n",
       "    'id': 878,\n",
       "    'resource_url': 'https://api.discogs.com/labels/878'}],\n",
       "  'artists': [{'name': 'Wishbone Ash',\n",
       "    'anv': '',\n",
       "    'join': '',\n",
       "    'role': '',\n",
       "    'tracks': '',\n",
       "    'id': 343684,\n",
       "    'resource_url': 'https://api.discogs.com/artists/343684'}],\n",
       "  'genres': ['Rock'],\n",
       "  'styles': ['Prog Rock']},\n",
       " 'folder_id': 1}"
      ]
     },
     "execution_count": 14,
     "metadata": {},
     "output_type": "execute_result"
    }
   ],
   "source": [
    "raw_collection_data[100]"
   ]
  },
  {
   "cell_type": "code",
   "execution_count": 15,
   "id": "d648d0ac",
   "metadata": {},
   "outputs": [
    {
     "data": {
      "text/plain": [
       "197"
      ]
     },
     "execution_count": 15,
     "metadata": {},
     "output_type": "execute_result"
    }
   ],
   "source": [
    "len(raw_collection_data)"
   ]
  },
  {
   "cell_type": "code",
   "execution_count": 16,
   "id": "e13d912b",
   "metadata": {},
   "outputs": [],
   "source": [
    "\"\"\"\n",
    "Extract required info from the raw collection data\n",
    "\"\"\"\n",
    "ids = [release['id'] for release in raw_collection_data]\n",
    "artists = [release['basic_information']['artists'][0]['name'] for release in raw_collection_data]\n",
    "titles = [release['basic_information']['title'] for release in raw_collection_data]\n",
    "years = [release['basic_information']['year'] for release in raw_collection_data]\n",
    "genres = cover_image_urls = [release['basic_information']['genres'][0]for release in raw_collection_data]\n",
    "formats = [release['basic_information']['formats'][0]['name']for release in raw_collection_data]\n",
    "cover_image_urls = [release['basic_information']['cover_image']for release in raw_collection_data]\n",
    "thumb_urls = [release['basic_information']['thumb'] for release in raw_collection_data]"
   ]
  },
  {
   "cell_type": "code",
   "execution_count": 217,
   "id": "a2c6557b",
   "metadata": {
    "scrolled": true
   },
   "outputs": [
    {
     "data": {
      "text/html": [
       "<div>\n",
       "<style scoped>\n",
       "    .dataframe tbody tr th:only-of-type {\n",
       "        vertical-align: middle;\n",
       "    }\n",
       "\n",
       "    .dataframe tbody tr th {\n",
       "        vertical-align: top;\n",
       "    }\n",
       "\n",
       "    .dataframe thead th {\n",
       "        text-align: right;\n",
       "    }\n",
       "</style>\n",
       "<table border=\"1\" class=\"dataframe\">\n",
       "  <thead>\n",
       "    <tr style=\"text-align: right;\">\n",
       "      <th></th>\n",
       "      <th>Discogs ID</th>\n",
       "      <th>Artist</th>\n",
       "      <th>Title</th>\n",
       "      <th>Year</th>\n",
       "      <th>Genre</th>\n",
       "      <th>Format</th>\n",
       "      <th>Cover URL</th>\n",
       "      <th>Thumb URL</th>\n",
       "    </tr>\n",
       "  </thead>\n",
       "  <tbody>\n",
       "    <tr>\n",
       "      <th>0</th>\n",
       "      <td>3068785</td>\n",
       "      <td>Augustus Pablo</td>\n",
       "      <td>This Is Augustus Pablo</td>\n",
       "      <td>2011</td>\n",
       "      <td>Reggae</td>\n",
       "      <td>Vinyl</td>\n",
       "      <td>https://i.discogs.com/15aqwiUEUaq5W0kFSCOdhmXg...</td>\n",
       "      <td>https://i.discogs.com/AESPi0HqFR2cLVt_63aniCjn...</td>\n",
       "    </tr>\n",
       "    <tr>\n",
       "      <th>1</th>\n",
       "      <td>712158</td>\n",
       "      <td>Kinsman Dazz</td>\n",
       "      <td>Dazz</td>\n",
       "      <td>1979</td>\n",
       "      <td>Funk / Soul</td>\n",
       "      <td>Vinyl</td>\n",
       "      <td>https://i.discogs.com/nNGy5Y9DoLVT6kSdhBuuwhVc...</td>\n",
       "      <td>https://i.discogs.com/n_iDkCwKZvm4tOBANLpfDX5n...</td>\n",
       "    </tr>\n",
       "    <tr>\n",
       "      <th>2</th>\n",
       "      <td>442490</td>\n",
       "      <td>The Police</td>\n",
       "      <td>Synchronicity</td>\n",
       "      <td>1983</td>\n",
       "      <td>Rock</td>\n",
       "      <td>Vinyl</td>\n",
       "      <td>https://i.discogs.com/-_zH6T6k8_SOb1j23-CZcOkf...</td>\n",
       "      <td>https://i.discogs.com/m0dh-YjmQzWvunwSsopsX0zl...</td>\n",
       "    </tr>\n",
       "    <tr>\n",
       "      <th>3</th>\n",
       "      <td>1022839</td>\n",
       "      <td>The Tubes</td>\n",
       "      <td>Young And Rich</td>\n",
       "      <td>1976</td>\n",
       "      <td>Rock</td>\n",
       "      <td>Vinyl</td>\n",
       "      <td>https://i.discogs.com/MWVA1sN3kYzEuB49c088DA6d...</td>\n",
       "      <td>https://i.discogs.com/JFb3I8agcy0c22ZfUKcrtAj5...</td>\n",
       "    </tr>\n",
       "    <tr>\n",
       "      <th>4</th>\n",
       "      <td>611451</td>\n",
       "      <td>Carpenters</td>\n",
       "      <td>The Singles 1969-1973</td>\n",
       "      <td>1973</td>\n",
       "      <td>Rock</td>\n",
       "      <td>Vinyl</td>\n",
       "      <td>https://i.discogs.com/mv3jvx2uWoNi71Tv9rBCk3YZ...</td>\n",
       "      <td>https://i.discogs.com/IEv7ab527SgZxRLoNqEXCzqN...</td>\n",
       "    </tr>\n",
       "    <tr>\n",
       "      <th>5</th>\n",
       "      <td>1473508</td>\n",
       "      <td>The Mamas &amp; The Papas</td>\n",
       "      <td>Hits Of Gold</td>\n",
       "      <td>1974</td>\n",
       "      <td>Rock</td>\n",
       "      <td>Vinyl</td>\n",
       "      <td>https://i.discogs.com/Rw-H_-bT8If3Ye9b_WSAR1j0...</td>\n",
       "      <td>https://i.discogs.com/oJJQXd5wrZCb8t3ih0zs7wn8...</td>\n",
       "    </tr>\n",
       "    <tr>\n",
       "      <th>6</th>\n",
       "      <td>4290679</td>\n",
       "      <td>Steely Dan</td>\n",
       "      <td>Can't Buy A Thrill</td>\n",
       "      <td>1974</td>\n",
       "      <td>Rock</td>\n",
       "      <td>Vinyl</td>\n",
       "      <td>https://i.discogs.com/X6YxT_WeaVjj_l5ALhkenAZZ...</td>\n",
       "      <td>https://i.discogs.com/QJJzx7Ius7xSZ7hknWjWj1xw...</td>\n",
       "    </tr>\n",
       "    <tr>\n",
       "      <th>7</th>\n",
       "      <td>4383259</td>\n",
       "      <td>John Lennon</td>\n",
       "      <td>Shaved Fish</td>\n",
       "      <td>1975</td>\n",
       "      <td>Rock</td>\n",
       "      <td>Vinyl</td>\n",
       "      <td>https://i.discogs.com/7siMxbq1lgdT37JRo8Pj0oJg...</td>\n",
       "      <td>https://i.discogs.com/4l5Hr-7l7zs45BjTE7S2an25...</td>\n",
       "    </tr>\n",
       "    <tr>\n",
       "      <th>8</th>\n",
       "      <td>453773</td>\n",
       "      <td>Sky (4)</td>\n",
       "      <td>Sky 2</td>\n",
       "      <td>1980</td>\n",
       "      <td>Rock</td>\n",
       "      <td>Vinyl</td>\n",
       "      <td>https://i.discogs.com/Dp28n35Dq_k54jIBKSoxn9-f...</td>\n",
       "      <td>https://i.discogs.com/8nglyBAzRC9RA-cEPfg4Q6eW...</td>\n",
       "    </tr>\n",
       "    <tr>\n",
       "      <th>9</th>\n",
       "      <td>773190</td>\n",
       "      <td>The Alan Parsons Project</td>\n",
       "      <td>I Robot</td>\n",
       "      <td>1977</td>\n",
       "      <td>Rock</td>\n",
       "      <td>Vinyl</td>\n",
       "      <td>https://i.discogs.com/5-QoHy8gAr3amY2zdneDOaCv...</td>\n",
       "      <td>https://i.discogs.com/qxGop9Uvn_i-4H27z0-y7SrN...</td>\n",
       "    </tr>\n",
       "    <tr>\n",
       "      <th>10</th>\n",
       "      <td>6339387</td>\n",
       "      <td>Jackson Browne</td>\n",
       "      <td>The Pretender</td>\n",
       "      <td>1976</td>\n",
       "      <td>Rock</td>\n",
       "      <td>Vinyl</td>\n",
       "      <td>https://i.discogs.com/xMgXIf777QeMm0K6thn0NvZm...</td>\n",
       "      <td>https://i.discogs.com/I90uNHqzSvIBhSH2LPKt6yfX...</td>\n",
       "    </tr>\n",
       "    <tr>\n",
       "      <th>11</th>\n",
       "      <td>588440</td>\n",
       "      <td>Eagles</td>\n",
       "      <td>Hotel California</td>\n",
       "      <td>1976</td>\n",
       "      <td>Rock</td>\n",
       "      <td>Vinyl</td>\n",
       "      <td>https://i.discogs.com/VBdQTrnpsT1aARs9lBt2dfJN...</td>\n",
       "      <td>https://i.discogs.com/eEUrBHJbB4BNDFHZzas-t1x_...</td>\n",
       "    </tr>\n",
       "    <tr>\n",
       "      <th>12</th>\n",
       "      <td>1943717</td>\n",
       "      <td>Sonny &amp; Cher</td>\n",
       "      <td>Look At Us</td>\n",
       "      <td>1965</td>\n",
       "      <td>Rock</td>\n",
       "      <td>Vinyl</td>\n",
       "      <td>https://i.discogs.com/-NaZ2anSjJxFoxRfQuhw8t6C...</td>\n",
       "      <td>https://i.discogs.com/-hhDTeKLb8JOjyCY7jwYWf-n...</td>\n",
       "    </tr>\n",
       "    <tr>\n",
       "      <th>13</th>\n",
       "      <td>2710859</td>\n",
       "      <td>The Joy Formidable</td>\n",
       "      <td>The Big Roar</td>\n",
       "      <td>2011</td>\n",
       "      <td>Rock</td>\n",
       "      <td>CD</td>\n",
       "      <td>https://i.discogs.com/wYeR5dbCz3W0dOtzrBSNV8AK...</td>\n",
       "      <td>https://i.discogs.com/dkGCzdWVKt2SnSwFq77X9X5W...</td>\n",
       "    </tr>\n",
       "    <tr>\n",
       "      <th>14</th>\n",
       "      <td>8855958</td>\n",
       "      <td>Honne</td>\n",
       "      <td>Warm On A Cold Night</td>\n",
       "      <td>2016</td>\n",
       "      <td>Electronic</td>\n",
       "      <td>Vinyl</td>\n",
       "      <td>https://i.discogs.com/DPJbI9HEPiDNOOvpjGcIG2_X...</td>\n",
       "      <td>https://i.discogs.com/0_Tq_tA-xysvR3brtDx1xScs...</td>\n",
       "    </tr>\n",
       "  </tbody>\n",
       "</table>\n",
       "</div>"
      ],
      "text/plain": [
       "    Discogs ID                    Artist                   Title  Year  \\\n",
       "0      3068785            Augustus Pablo  This Is Augustus Pablo  2011   \n",
       "1       712158              Kinsman Dazz                    Dazz  1979   \n",
       "2       442490                The Police           Synchronicity  1983   \n",
       "3      1022839                 The Tubes          Young And Rich  1976   \n",
       "4       611451                Carpenters   The Singles 1969-1973  1973   \n",
       "5      1473508     The Mamas & The Papas            Hits Of Gold  1974   \n",
       "6      4290679                Steely Dan      Can't Buy A Thrill  1974   \n",
       "7      4383259               John Lennon             Shaved Fish  1975   \n",
       "8       453773                   Sky (4)                   Sky 2  1980   \n",
       "9       773190  The Alan Parsons Project                 I Robot  1977   \n",
       "10     6339387            Jackson Browne           The Pretender  1976   \n",
       "11      588440                    Eagles        Hotel California  1976   \n",
       "12     1943717              Sonny & Cher              Look At Us  1965   \n",
       "13     2710859        The Joy Formidable            The Big Roar  2011   \n",
       "14     8855958                     Honne    Warm On A Cold Night  2016   \n",
       "\n",
       "          Genre Format                                          Cover URL  \\\n",
       "0        Reggae  Vinyl  https://i.discogs.com/15aqwiUEUaq5W0kFSCOdhmXg...   \n",
       "1   Funk / Soul  Vinyl  https://i.discogs.com/nNGy5Y9DoLVT6kSdhBuuwhVc...   \n",
       "2          Rock  Vinyl  https://i.discogs.com/-_zH6T6k8_SOb1j23-CZcOkf...   \n",
       "3          Rock  Vinyl  https://i.discogs.com/MWVA1sN3kYzEuB49c088DA6d...   \n",
       "4          Rock  Vinyl  https://i.discogs.com/mv3jvx2uWoNi71Tv9rBCk3YZ...   \n",
       "5          Rock  Vinyl  https://i.discogs.com/Rw-H_-bT8If3Ye9b_WSAR1j0...   \n",
       "6          Rock  Vinyl  https://i.discogs.com/X6YxT_WeaVjj_l5ALhkenAZZ...   \n",
       "7          Rock  Vinyl  https://i.discogs.com/7siMxbq1lgdT37JRo8Pj0oJg...   \n",
       "8          Rock  Vinyl  https://i.discogs.com/Dp28n35Dq_k54jIBKSoxn9-f...   \n",
       "9          Rock  Vinyl  https://i.discogs.com/5-QoHy8gAr3amY2zdneDOaCv...   \n",
       "10         Rock  Vinyl  https://i.discogs.com/xMgXIf777QeMm0K6thn0NvZm...   \n",
       "11         Rock  Vinyl  https://i.discogs.com/VBdQTrnpsT1aARs9lBt2dfJN...   \n",
       "12         Rock  Vinyl  https://i.discogs.com/-NaZ2anSjJxFoxRfQuhw8t6C...   \n",
       "13         Rock     CD  https://i.discogs.com/wYeR5dbCz3W0dOtzrBSNV8AK...   \n",
       "14   Electronic  Vinyl  https://i.discogs.com/DPJbI9HEPiDNOOvpjGcIG2_X...   \n",
       "\n",
       "                                            Thumb URL  \n",
       "0   https://i.discogs.com/AESPi0HqFR2cLVt_63aniCjn...  \n",
       "1   https://i.discogs.com/n_iDkCwKZvm4tOBANLpfDX5n...  \n",
       "2   https://i.discogs.com/m0dh-YjmQzWvunwSsopsX0zl...  \n",
       "3   https://i.discogs.com/JFb3I8agcy0c22ZfUKcrtAj5...  \n",
       "4   https://i.discogs.com/IEv7ab527SgZxRLoNqEXCzqN...  \n",
       "5   https://i.discogs.com/oJJQXd5wrZCb8t3ih0zs7wn8...  \n",
       "6   https://i.discogs.com/QJJzx7Ius7xSZ7hknWjWj1xw...  \n",
       "7   https://i.discogs.com/4l5Hr-7l7zs45BjTE7S2an25...  \n",
       "8   https://i.discogs.com/8nglyBAzRC9RA-cEPfg4Q6eW...  \n",
       "9   https://i.discogs.com/qxGop9Uvn_i-4H27z0-y7SrN...  \n",
       "10  https://i.discogs.com/I90uNHqzSvIBhSH2LPKt6yfX...  \n",
       "11  https://i.discogs.com/eEUrBHJbB4BNDFHZzas-t1x_...  \n",
       "12  https://i.discogs.com/-hhDTeKLb8JOjyCY7jwYWf-n...  \n",
       "13  https://i.discogs.com/dkGCzdWVKt2SnSwFq77X9X5W...  \n",
       "14  https://i.discogs.com/0_Tq_tA-xysvR3brtDx1xScs...  "
      ]
     },
     "execution_count": 217,
     "metadata": {},
     "output_type": "execute_result"
    }
   ],
   "source": [
    "\"\"\"\n",
    "Make a Pandas dataframe of the relevant collection data\n",
    "\"\"\"\n",
    "collection_df = pd.DataFrame(data = list(zip(ids, artists, titles, years, genres, formats, cover_image_urls, thumb_urls)), columns=['Discogs ID', 'Artist', 'Title', 'Year', 'Genre', 'Format', 'Cover URL', 'Thumb URL'])\n",
    "collection_df[0:15]"
   ]
  },
  {
   "cell_type": "code",
   "execution_count": 218,
   "id": "9746939b",
   "metadata": {},
   "outputs": [
    {
     "data": {
      "text/plain": [
       "(190, 8)"
      ]
     },
     "execution_count": 218,
     "metadata": {},
     "output_type": "execute_result"
    }
   ],
   "source": [
    "\"\"\"\n",
    "Just the Vinyl\n",
    "\"\"\"\n",
    "collection_df = collection_df[collection_df['Format'] == 'Vinyl']\n",
    "collection_df.shape"
   ]
  },
  {
   "cell_type": "code",
   "execution_count": 219,
   "id": "cd67d97b",
   "metadata": {},
   "outputs": [
    {
     "data": {
      "text/plain": [
       "190"
      ]
     },
     "execution_count": 219,
     "metadata": {},
     "output_type": "execute_result"
    }
   ],
   "source": [
    "collection_size = collection_df.shape[0]\n",
    "collection_size"
   ]
  },
  {
   "cell_type": "code",
   "execution_count": 220,
   "id": "e7db53eb",
   "metadata": {},
   "outputs": [
    {
     "data": {
      "image/jpeg": "[encoded data removed]",
      "text/plain": [
       "<IPython.core.display.Image object>"
      ]
     },
     "execution_count": 220,
     "metadata": {},
     "output_type": "execute_result"
    }
   ],
   "source": [
    "display.Image(collection_df.loc[0][6])"
   ]
  },
  {
   "cell_type": "code",
   "execution_count": 221,
   "id": "720a18db",
   "metadata": {},
   "outputs": [],
   "source": [
    "def show_vinyl(disc):\n",
    "    cover = display.Image(collection_df.loc[disc][6])\n",
    "    print(\n",
    "        f\"{collection_df.loc[disc][1]}\\n{collection_df.loc[disc][2]} ({collection_df.loc[disc][3]})\\n{collection_df.loc[disc][4]}\")\n",
    "    return cover"
   ]
  },
  {
   "cell_type": "code",
   "execution_count": 222,
   "id": "a57ed245",
   "metadata": {},
   "outputs": [],
   "source": [
    "def shuffle():\n",
    "    disc = random.choice(list(collection_df.index))\n",
    "    return show_vinyl(disc)"
   ]
  },
  {
   "cell_type": "code",
   "execution_count": 293,
   "id": "bb8dc098",
   "metadata": {},
   "outputs": [
    {
     "name": "stdout",
     "output_type": "stream",
     "text": [
      "The Cribs\n",
      "Men's Needs, Women's Needs, Whatever (2007)\n",
      "Rock\n"
     ]
    },
    {
     "data": {
      "image/jpeg": "[encoded data removed]",
      "text/plain": [
       "<IPython.core.display.Image object>"
      ]
     },
     "execution_count": 293,
     "metadata": {},
     "output_type": "execute_result"
    }
   ],
   "source": [
    "shuffle()"
   ]
  },
  {
   "cell_type": "code",
   "execution_count": 287,
   "id": "dacb0fe6",
   "metadata": {},
   "outputs": [],
   "source": [
    "# Create a CSV file of the Vinyl Collection\n",
    "\n",
    "collection_df.to_csv('vinyl_collection.csv', index=False)"
   ]
  },
  {
   "cell_type": "code",
   "execution_count": 288,
   "id": "30521eff",
   "metadata": {},
   "outputs": [],
   "source": [
    "collection = pd.read_csv('vinyl_collection.csv')"
   ]
  },
  {
   "cell_type": "code",
   "execution_count": 290,
   "id": "5ee4291b",
   "metadata": {},
   "outputs": [
    {
     "data": {
      "text/html": [
       "<div>\n",
       "<style scoped>\n",
       "    .dataframe tbody tr th:only-of-type {\n",
       "        vertical-align: middle;\n",
       "    }\n",
       "\n",
       "    .dataframe tbody tr th {\n",
       "        vertical-align: top;\n",
       "    }\n",
       "\n",
       "    .dataframe thead th {\n",
       "        text-align: right;\n",
       "    }\n",
       "</style>\n",
       "<table border=\"1\" class=\"dataframe\">\n",
       "  <thead>\n",
       "    <tr style=\"text-align: right;\">\n",
       "      <th></th>\n",
       "      <th>Discogs ID</th>\n",
       "      <th>Artist</th>\n",
       "      <th>Title</th>\n",
       "      <th>Year</th>\n",
       "      <th>Genre</th>\n",
       "      <th>Format</th>\n",
       "      <th>Cover URL</th>\n",
       "      <th>Thumb URL</th>\n",
       "    </tr>\n",
       "  </thead>\n",
       "  <tbody>\n",
       "    <tr>\n",
       "      <th>0</th>\n",
       "      <td>3068785</td>\n",
       "      <td>Augustus Pablo</td>\n",
       "      <td>This Is Augustus Pablo</td>\n",
       "      <td>2011</td>\n",
       "      <td>Reggae</td>\n",
       "      <td>Vinyl</td>\n",
       "      <td>https://i.discogs.com/15aqwiUEUaq5W0kFSCOdhmXg...</td>\n",
       "      <td>https://i.discogs.com/AESPi0HqFR2cLVt_63aniCjn...</td>\n",
       "    </tr>\n",
       "    <tr>\n",
       "      <th>1</th>\n",
       "      <td>712158</td>\n",
       "      <td>Kinsman Dazz</td>\n",
       "      <td>Dazz</td>\n",
       "      <td>1979</td>\n",
       "      <td>Funk / Soul</td>\n",
       "      <td>Vinyl</td>\n",
       "      <td>https://i.discogs.com/nNGy5Y9DoLVT6kSdhBuuwhVc...</td>\n",
       "      <td>https://i.discogs.com/n_iDkCwKZvm4tOBANLpfDX5n...</td>\n",
       "    </tr>\n",
       "    <tr>\n",
       "      <th>2</th>\n",
       "      <td>442490</td>\n",
       "      <td>The Police</td>\n",
       "      <td>Synchronicity</td>\n",
       "      <td>1983</td>\n",
       "      <td>Rock</td>\n",
       "      <td>Vinyl</td>\n",
       "      <td>https://i.discogs.com/-_zH6T6k8_SOb1j23-CZcOkf...</td>\n",
       "      <td>https://i.discogs.com/m0dh-YjmQzWvunwSsopsX0zl...</td>\n",
       "    </tr>\n",
       "    <tr>\n",
       "      <th>3</th>\n",
       "      <td>1022839</td>\n",
       "      <td>The Tubes</td>\n",
       "      <td>Young And Rich</td>\n",
       "      <td>1976</td>\n",
       "      <td>Rock</td>\n",
       "      <td>Vinyl</td>\n",
       "      <td>https://i.discogs.com/MWVA1sN3kYzEuB49c088DA6d...</td>\n",
       "      <td>https://i.discogs.com/JFb3I8agcy0c22ZfUKcrtAj5...</td>\n",
       "    </tr>\n",
       "    <tr>\n",
       "      <th>4</th>\n",
       "      <td>611451</td>\n",
       "      <td>Carpenters</td>\n",
       "      <td>The Singles 1969-1973</td>\n",
       "      <td>1973</td>\n",
       "      <td>Rock</td>\n",
       "      <td>Vinyl</td>\n",
       "      <td>https://i.discogs.com/mv3jvx2uWoNi71Tv9rBCk3YZ...</td>\n",
       "      <td>https://i.discogs.com/IEv7ab527SgZxRLoNqEXCzqN...</td>\n",
       "    </tr>\n",
       "  </tbody>\n",
       "</table>\n",
       "</div>"
      ],
      "text/plain": [
       "   Discogs ID          Artist                   Title  Year        Genre  \\\n",
       "0     3068785  Augustus Pablo  This Is Augustus Pablo  2011       Reggae   \n",
       "1      712158    Kinsman Dazz                    Dazz  1979  Funk / Soul   \n",
       "2      442490      The Police           Synchronicity  1983         Rock   \n",
       "3     1022839       The Tubes          Young And Rich  1976         Rock   \n",
       "4      611451      Carpenters   The Singles 1969-1973  1973         Rock   \n",
       "\n",
       "  Format                                          Cover URL  \\\n",
       "0  Vinyl  https://i.discogs.com/15aqwiUEUaq5W0kFSCOdhmXg...   \n",
       "1  Vinyl  https://i.discogs.com/nNGy5Y9DoLVT6kSdhBuuwhVc...   \n",
       "2  Vinyl  https://i.discogs.com/-_zH6T6k8_SOb1j23-CZcOkf...   \n",
       "3  Vinyl  https://i.discogs.com/MWVA1sN3kYzEuB49c088DA6d...   \n",
       "4  Vinyl  https://i.discogs.com/mv3jvx2uWoNi71Tv9rBCk3YZ...   \n",
       "\n",
       "                                           Thumb URL  \n",
       "0  https://i.discogs.com/AESPi0HqFR2cLVt_63aniCjn...  \n",
       "1  https://i.discogs.com/n_iDkCwKZvm4tOBANLpfDX5n...  \n",
       "2  https://i.discogs.com/m0dh-YjmQzWvunwSsopsX0zl...  \n",
       "3  https://i.discogs.com/JFb3I8agcy0c22ZfUKcrtAj5...  \n",
       "4  https://i.discogs.com/IEv7ab527SgZxRLoNqEXCzqN...  "
      ]
     },
     "execution_count": 290,
     "metadata": {},
     "output_type": "execute_result"
    }
   ],
   "source": [
    "collection.head()"
   ]
  },
  {
   "cell_type": "code",
   "execution_count": null,
   "id": "93fac17b",
   "metadata": {},
   "outputs": [],
   "source": [
    "# chat gpt code for app\n",
    "import tkinter as tk\n",
    "from tkinter import PhotoImage\n",
    "import pandas as pd\n",
    "import requests\n",
    "from io import BytesIO\n",
    "\n",
    "# Create the main window\n",
    "window = tk.Tk()\n",
    "window.title(\"My GUI\")\n",
    "window.geometry(\"3000x3000\")\n",
    "\n",
    "# Read the CSV file\n",
    "df = pd.read_csv(\"images.csv\")\n",
    "image_urls = df[\"URL\"].tolist()\n",
    "\n",
    "\n",
    "# Create the shuffle button\n",
    "def shuffle():\n",
    "    # Choose a random image URL\n",
    "    import random\n",
    "    image_url = random.choice(image_urls)\n",
    "\n",
    "    # Read the image from the URL\n",
    "    response = requests.get(image_url)\n",
    "    image = PhotoImage(data=BytesIO(response.content).getvalue())\n",
    "\n",
    "    # Display the image\n",
    "    label = tk.Label(image=image)\n",
    "    label.image = image  # Keep a reference to the image to prevent garbage collection\n",
    "    label.pack()\n",
    "\n",
    "\n",
    "button = tk.Button(text=\"Shuffle\", command=shuffle)\n",
    "button.pack()\n",
    "\n",
    "# Run the main loop\n",
    "window.mainloop()\n"
   ]
  }
 ],
 "metadata": {
  "kernelspec": {
   "display_name": "lewagon",
   "language": "python",
   "name": "python3"
  },
  "language_info": {
   "codemirror_mode": {
    "name": "ipython",
    "version": 3
   },
   "file_extension": ".py",
   "mimetype": "text/x-python",
   "name": "python",
   "nbconvert_exporter": "python",
   "pygments_lexer": "ipython3",
   "version": "3.10.6"
  },
  "toc": {
   "base_numbering": 1,
   "nav_menu": {},
   "number_sections": true,
   "sideBar": true,
   "skip_h1_title": false,
   "title_cell": "Table of Contents",
   "title_sidebar": "Contents",
   "toc_cell": false,
   "toc_position": {},
   "toc_section_display": true,
   "toc_window_display": false
  },
  "vscode": {
   "interpreter": {
    "hash": "c37e6175df963c6e0e1735055c1a722daed860bc9796a2782dd2b7d95fbc7ffe"
   }
  }
 },
 "nbformat": 4,
 "nbformat_minor": 5
}
